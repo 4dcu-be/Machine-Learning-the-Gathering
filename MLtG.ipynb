{
 "cells": [
  {
   "cell_type": "markdown",
   "metadata": {},
   "source": [
    "# Machine Learning: the Gathering\n",
    "\n",
    "In Magic: the Gathering, a collectable card game competitive players tend to gravitate towards a few dozen of the best decks made up out of a subset of all available cards. For instance in the Legacy format nearly all 18000 cards can be played, yet you'll only see about 500 show up in tournaments with some (e.g. Brainstorm and Force of Will) showing up in > 50% of all high-ranking decks.\n",
    "\n",
    "When playing in such an event it is key to quickly identify your opponent's deck and adapt your own game plan accordingly. Top players are able to very quickly do this, bad ones like myself need a few more turns. Here we'll see if we can train a model that takes in a few known cards and outputs a prediction which deck is being played.\n",
    "\n",
    "This notebook consists of a few sections:\n",
    "\n",
    "  * Downloading the data (requests and Beautiful Soup)\n",
    "  * Checking the data (pandas, seaborn)\n",
    "  * Building a classifier (sklearn)\n",
    "  * Balancing the dataset (imbalanced-learn, sklearn) and retraining a classifier\n",
    "  * Running the model\n",
    "\n",
    "\n",
    "## Step 01: getting some decklists\n",
    "\n",
    "We'll get decklists from MTG Top 8 a website that collects decklists from the best 8 players in different tournaments. We'll focus on the Legacy format, using only decks from the last two weeks ( https://www.mtgtop8.com/format?f=LE&meta=34 ). Using Beautiful Soup we'll get all decks lists from the different archetypes.\n",
    "\n",
    "This process is rather straightforward, we get the website using requests, pick up the links we want using Beautiful Soup, follow that links using requests, pick up the correct link again using Beautiful Soup and finally get the decklis using requests again. Parsing HTML tends to be tedious and if the website updates this will likely break.\n",
    "\n",
    "You can pick up at Step 02 if you don't want to download these files. The results (from 29/12/2019) are included in this repository."
   ]
  },
  {
   "cell_type": "code",
   "execution_count": 1,
   "metadata": {},
   "outputs": [],
   "source": [
    "# Load all libraries\n",
    "\n",
    "from bs4 import BeautifulSoup\n",
    "import requests\n",
    "import re\n",
    "from tqdm import tqdm\n",
    "import pandas as pd\n",
    "from collections import Counter\n",
    "\n",
    "from scipy.spatial.distance import pdist, squareform\n",
    "import seaborn as sns\n",
    "import matplotlib.pyplot as plt\n",
    "%matplotlib inline\n"
   ]
  },
  {
   "cell_type": "code",
   "execution_count": null,
   "metadata": {},
   "outputs": [],
   "source": [
    "base_url = \"https://www.mtgtop8.com/\"\n",
    "initial_url = base_url + \"format?f=LE&meta=34\"\n",
    "deck_url = 'https://www.mtgtop8.com/mtgo?d=%s'\n",
    "\n",
    "resp = requests.get(initial_url)\n",
    "soup = BeautifulSoup(resp.text, 'html.parser')"
   ]
  },
  {
   "cell_type": "code",
   "execution_count": null,
   "metadata": {},
   "outputs": [],
   "source": [
    "archetypes = {}\n",
    "decks = {}\n",
    "\n",
    "# First find all archetypes and the link to their details\n",
    "for a in soup.find_all('a'):\n",
    "    if \"archetype\" in a['href']:\n",
    "        archetypes[a.string] = a['href']\n",
    "\n",
    "pattern = re.compile(\"d=(\\d+)\")  # Regex to extract deck ID from url\n",
    "\n",
    "# For each archetype get the deck IDs\n",
    "for archetype, url in tqdm(archetypes.items()):\n",
    "    current_url = base_url + url\n",
    "    resp = requests.get(current_url)\n",
    "    current_soup = BeautifulSoup(resp.text, 'html.parser')\n",
    "    \n",
    "    deck_urls = [a['href'] for a in current_soup.find_all('a') if 'event' in a['href'] and 'd=' in a['href']] \n",
    "    decks[archetype] =  [pattern.search(d).group(1) for d in deck_urls]\n",
    "        "
   ]
  },
  {
   "cell_type": "code",
   "execution_count": null,
   "metadata": {},
   "outputs": [],
   "source": [
    "# Fetch decklist\n",
    "data = []\n",
    "\n",
    "for archetype, deck_ids in tqdm(decks.items()):\n",
    "    for i, deck_id in enumerate(deck_ids, start=1):\n",
    "        current_url = deck_url % (deck_id)\n",
    "        resp = requests.get(current_url)\n",
    "\n",
    "        for line in resp.text.split(\"\\r\\n\"):\n",
    "            # We don't need the sideboard, break once this line is found\n",
    "            if line.startswith(\"Sideboard\"):\n",
    "                break\n",
    "            card_count, card_name = line.split(\" \", 1)\n",
    "            data.append({\n",
    "                \"archetype\": archetype,\n",
    "                \"deck\": archetype + ' ' + str(i),\n",
    "                \"card\": card_name,\n",
    "                \"count\": int(card_count)\n",
    "            })\n"
   ]
  },
  {
   "cell_type": "markdown",
   "metadata": {},
   "source": [
    "## Step 02: Data Science !\n",
    "\n",
    "Now we got for each archetype all decks and all the main deck cards for that deck in a list of dictionaries, this can be directly converted into a pandas dataframe. Using the .pivot function we'll be able to convert that table into a count matrix.\n",
    "\n",
    "We'll first prepare the dataframes and store them as csv files (comma separated values) so we can pick up from this point without downloading all decklists again."
   ]
  },
  {
   "cell_type": "code",
   "execution_count": null,
   "metadata": {},
   "outputs": [],
   "source": [
    "df = pd.DataFrame(data)\n",
    "card_table = df.pivot(index='deck', columns='card', values='count').fillna(0)\n",
    "archetype_df = df[[\"archetype\", \"deck\"]].drop_duplicates().set_index(\"deck\").reindex(card_table.index)\n",
    "\n",
    "df.to_csv('decks_table.csv')\n",
    "card_table.to_csv('card_table.csv')\n",
    "archetype_df.to_csv('archetypes.csv')"
   ]
  },
  {
   "cell_type": "code",
   "execution_count": 3,
   "metadata": {},
   "outputs": [],
   "source": [
    "# If you don't want to download the decklists yourself, start from this point \n",
    "\n",
    "df = pd.read_csv('decks_table.csv', index_col=0)\n",
    "card_table = pd.read_csv('card_table.csv', index_col=0)\n",
    "archetype_df = pd.read_csv('archetypes.csv', index_col=0)"
   ]
  },
  {
   "cell_type": "code",
   "execution_count": 4,
   "metadata": {},
   "outputs": [
    {
     "name": "stdout",
     "output_type": "stream",
     "text": [
      "There are 28 archetypes, the most popular ones are: UR Delver(6), Bant Control(5), Death & Taxes(4), UWx Control(4), Dark Depths(3)\n",
      "The 10 most popular cards:\n",
      "Brainstorm              112.0\n",
      "Force of Will           108.0\n",
      "Ponder                  103.0\n",
      "Wasteland                88.0\n",
      "Polluted Delta           71.0\n",
      "Misty Rainforest         68.0\n",
      "Swords to Plowshares     62.0\n",
      "Flooded Strand           60.0\n",
      "Thoughtseize             54.0\n",
      "Verdant Catacombs        50.0\n",
      "dtype: float64\n"
     ]
    }
   ],
   "source": [
    "# Let's do some sanity checks first\n",
    "\n",
    "arch_counter = Counter(archetype_df['archetype'])\n",
    "most_common = [a + '(' + str(c) + ')' for a,c in arch_counter.most_common(5)]\n",
    "print(\"There are %d archetypes, the most popular ones are: %s\" % (len(arch_counter), ', '.join(most_common)))\n",
    "\n",
    "print(\"The 10 most popular cards:\")\n",
    "print(card_table.sum().sort_values(ascending=False).head(10))"
   ]
  },
  {
   "cell_type": "code",
   "execution_count": 5,
   "metadata": {},
   "outputs": [
    {
     "name": "stderr",
     "output_type": "stream",
     "text": [
      "C:\\ProgramData\\Anaconda3\\lib\\site-packages\\seaborn\\matrix.py:603: ClusterWarning: scipy.cluster: The symmetric non-negative hollow observation matrix looks suspiciously like an uncondensed distance matrix\n",
      "  metric=self.metric)\n"
     ]
    },
    {
     "data": {
      "image/png": "[encoded data removed]",
      "text/plain": [
       "<Figure size 720x720 with 4 Axes>"
      ]
     },
     "metadata": {
      "needs_background": "light"
     },
     "output_type": "display_data"
    }
   ],
   "source": [
    "# Here we'll average all decks from the same archetype and create a family tree of decks\n",
    "\n",
    "df_mean = df.groupby(['archetype', 'card'], as_index=False).mean()\n",
    "df_mean = df_mean.pivot(index='archetype', columns='card', values='count').fillna(0)\n",
    "df_mean.reset_index()\n",
    "\n",
    "distances = pdist(df_mean.values, metric='braycurtis')\n",
    "DistDf = pd.DataFrame(squareform(distances), columns=df_mean.index, index=df_mean.index)\n",
    "\n",
    "g = sns.clustermap(DistDf, cmap='viridis')\n",
    "plt.setp(g.ax_heatmap.yaxis.get_majorticklabels(), rotation=0)\n",
    "plt.setp(g.ax_heatmap.xaxis.get_majorticklabels(), rotation=90)\n",
    "plt.show()"
   ]
  },
  {
   "cell_type": "markdown",
   "metadata": {},
   "source": [
    "## Step 03: Building a classifier\n",
    "\n",
    "We'll first convert our card table into a present-absense matrix, where a one indicates a card is present in a deck (any number of copies) and a zero the card isn't present in a deck.\n"
   ]
  },
  {
   "cell_type": "code",
   "execution_count": 6,
   "metadata": {},
   "outputs": [
    {
     "data": {
      "text/html": [
       "<div>\n",
       "<style scoped>\n",
       "    .dataframe tbody tr th:only-of-type {\n",
       "        vertical-align: middle;\n",
       "    }\n",
       "\n",
       "    .dataframe tbody tr th {\n",
       "        vertical-align: top;\n",
       "    }\n",
       "\n",
       "    .dataframe thead th {\n",
       "        text-align: right;\n",
       "    }\n",
       "</style>\n",
       "<table border=\"1\" class=\"dataframe\">\n",
       "  <thead>\n",
       "    <tr style=\"text-align: right;\">\n",
       "      <th></th>\n",
       "      <th>deck</th>\n",
       "      <th>archetype</th>\n",
       "      <th>Abrupt Decay</th>\n",
       "      <th>Ad Nauseam</th>\n",
       "      <th>Aether Vial</th>\n",
       "      <th>Altar of Dementia</th>\n",
       "      <th>Ancient Tomb</th>\n",
       "      <th>Ancient Ziggurat</th>\n",
       "      <th>Angrath's Rampage</th>\n",
       "      <th>Animate Dead</th>\n",
       "      <th>...</th>\n",
       "      <th>Watcher for Tomorrow</th>\n",
       "      <th>Waterlogged Grove</th>\n",
       "      <th>Wayward Servant</th>\n",
       "      <th>Whirlpool Rider</th>\n",
       "      <th>Wildborn Preserver</th>\n",
       "      <th>Windswept Heath</th>\n",
       "      <th>Wirewood Symbiote</th>\n",
       "      <th>Wishclaw Talisman</th>\n",
       "      <th>Wooded Foothills</th>\n",
       "      <th>Young Pyromancer</th>\n",
       "    </tr>\n",
       "  </thead>\n",
       "  <tbody>\n",
       "    <tr>\n",
       "      <td>0</td>\n",
       "      <td>Artifacts Blue 1</td>\n",
       "      <td>Artifacts Blue</td>\n",
       "      <td>0</td>\n",
       "      <td>0</td>\n",
       "      <td>0</td>\n",
       "      <td>0</td>\n",
       "      <td>1</td>\n",
       "      <td>0</td>\n",
       "      <td>0</td>\n",
       "      <td>0</td>\n",
       "      <td>...</td>\n",
       "      <td>0</td>\n",
       "      <td>0</td>\n",
       "      <td>0</td>\n",
       "      <td>0</td>\n",
       "      <td>0</td>\n",
       "      <td>0</td>\n",
       "      <td>0</td>\n",
       "      <td>0</td>\n",
       "      <td>0</td>\n",
       "      <td>0</td>\n",
       "    </tr>\n",
       "    <tr>\n",
       "      <td>1</td>\n",
       "      <td>BUG Midrange 1</td>\n",
       "      <td>BUG Midrange</td>\n",
       "      <td>1</td>\n",
       "      <td>0</td>\n",
       "      <td>0</td>\n",
       "      <td>0</td>\n",
       "      <td>0</td>\n",
       "      <td>0</td>\n",
       "      <td>0</td>\n",
       "      <td>0</td>\n",
       "      <td>...</td>\n",
       "      <td>0</td>\n",
       "      <td>0</td>\n",
       "      <td>0</td>\n",
       "      <td>0</td>\n",
       "      <td>0</td>\n",
       "      <td>0</td>\n",
       "      <td>0</td>\n",
       "      <td>0</td>\n",
       "      <td>0</td>\n",
       "      <td>0</td>\n",
       "    </tr>\n",
       "    <tr>\n",
       "      <td>2</td>\n",
       "      <td>Bant Aggro 1</td>\n",
       "      <td>Bant Aggro</td>\n",
       "      <td>0</td>\n",
       "      <td>0</td>\n",
       "      <td>0</td>\n",
       "      <td>0</td>\n",
       "      <td>0</td>\n",
       "      <td>0</td>\n",
       "      <td>0</td>\n",
       "      <td>0</td>\n",
       "      <td>...</td>\n",
       "      <td>0</td>\n",
       "      <td>0</td>\n",
       "      <td>0</td>\n",
       "      <td>0</td>\n",
       "      <td>0</td>\n",
       "      <td>1</td>\n",
       "      <td>0</td>\n",
       "      <td>0</td>\n",
       "      <td>1</td>\n",
       "      <td>0</td>\n",
       "    </tr>\n",
       "    <tr>\n",
       "      <td>3</td>\n",
       "      <td>Bant Control 1</td>\n",
       "      <td>Bant Control</td>\n",
       "      <td>0</td>\n",
       "      <td>0</td>\n",
       "      <td>0</td>\n",
       "      <td>0</td>\n",
       "      <td>0</td>\n",
       "      <td>0</td>\n",
       "      <td>0</td>\n",
       "      <td>0</td>\n",
       "      <td>...</td>\n",
       "      <td>0</td>\n",
       "      <td>0</td>\n",
       "      <td>0</td>\n",
       "      <td>0</td>\n",
       "      <td>0</td>\n",
       "      <td>0</td>\n",
       "      <td>0</td>\n",
       "      <td>0</td>\n",
       "      <td>0</td>\n",
       "      <td>0</td>\n",
       "    </tr>\n",
       "    <tr>\n",
       "      <td>4</td>\n",
       "      <td>Bant Control 2</td>\n",
       "      <td>Bant Control</td>\n",
       "      <td>0</td>\n",
       "      <td>0</td>\n",
       "      <td>0</td>\n",
       "      <td>0</td>\n",
       "      <td>0</td>\n",
       "      <td>0</td>\n",
       "      <td>0</td>\n",
       "      <td>0</td>\n",
       "      <td>...</td>\n",
       "      <td>0</td>\n",
       "      <td>0</td>\n",
       "      <td>0</td>\n",
       "      <td>0</td>\n",
       "      <td>0</td>\n",
       "      <td>0</td>\n",
       "      <td>0</td>\n",
       "      <td>0</td>\n",
       "      <td>0</td>\n",
       "      <td>0</td>\n",
       "    </tr>\n",
       "  </tbody>\n",
       "</table>\n",
       "<p>5 rows × 341 columns</p>\n",
       "</div>"
      ],
      "text/plain": [
       "               deck       archetype  Abrupt Decay  Ad Nauseam  Aether Vial  \\\n",
       "0  Artifacts Blue 1  Artifacts Blue             0           0            0   \n",
       "1    BUG Midrange 1    BUG Midrange             1           0            0   \n",
       "2      Bant Aggro 1      Bant Aggro             0           0            0   \n",
       "3    Bant Control 1    Bant Control             0           0            0   \n",
       "4    Bant Control 2    Bant Control             0           0            0   \n",
       "\n",
       "   Altar of Dementia  Ancient Tomb  Ancient Ziggurat  Angrath's Rampage  \\\n",
       "0                  0             1                 0                  0   \n",
       "1                  0             0                 0                  0   \n",
       "2                  0             0                 0                  0   \n",
       "3                  0             0                 0                  0   \n",
       "4                  0             0                 0                  0   \n",
       "\n",
       "   Animate Dead  ...  Watcher for Tomorrow  Waterlogged Grove  \\\n",
       "0             0  ...                     0                  0   \n",
       "1             0  ...                     0                  0   \n",
       "2             0  ...                     0                  0   \n",
       "3             0  ...                     0                  0   \n",
       "4             0  ...                     0                  0   \n",
       "\n",
       "   Wayward Servant  Whirlpool Rider  Wildborn Preserver  Windswept Heath  \\\n",
       "0                0                0                   0                0   \n",
       "1                0                0                   0                0   \n",
       "2                0                0                   0                1   \n",
       "3                0                0                   0                0   \n",
       "4                0                0                   0                0   \n",
       "\n",
       "   Wirewood Symbiote  Wishclaw Talisman  Wooded Foothills  Young Pyromancer  \n",
       "0                  0                  0                 0                 0  \n",
       "1                  0                  0                 0                 0  \n",
       "2                  0                  0                 1                 0  \n",
       "3                  0                  0                 0                 0  \n",
       "4                  0                  0                 0                 0  \n",
       "\n",
       "[5 rows x 341 columns]"
      ]
     },
     "execution_count": 6,
     "metadata": {},
     "output_type": "execute_result"
    }
   ],
   "source": [
    "card_table_present_absent = card_table.applymap(lambda x: 1 if x > 0 else 0)\n",
    "all_cards = list(card_table_present_absent.columns)\n",
    "card_table_present_absent = pd.merge(archetype_df.reset_index(), card_table_present_absent, left_on='deck', right_on='deck')\n",
    "card_table_present_absent.head()"
   ]
  },
  {
   "cell_type": "markdown",
   "metadata": {},
   "source": [
    "Now we need random subsets of cards from each deck in this format. To do this we will sample a number of random cards from each deck a number of times. This will become our final dataset to train the model on."
   ]
  },
  {
   "cell_type": "code",
   "execution_count": 7,
   "metadata": {},
   "outputs": [
    {
     "name": "stdout",
     "output_type": "stream",
     "text": [
      "Prepared 522000 sets for training/testing\n"
     ]
    }
   ],
   "source": [
    "# Build training data\n",
    "\n",
    "deck_data = []\n",
    "\n",
    "for index, row in card_table_present_absent.iterrows():\n",
    "    cards = [k for k,v in row.items() if v == 1]\n",
    "    deck_data.append({\n",
    "        'archetype' : row['archetype'],\n",
    "        'cards': cards\n",
    "    })\n",
    "    \n",
    "\n",
    "\n",
    "from random import shuffle\n",
    "\n",
    "iterations = 1500\n",
    "training_data = []\n",
    "\n",
    "sizes = [4,5,6,7,10,20] # Samples to pick, for small sets of known cards we'll do a few more\n",
    "\n",
    "for card_number in sizes:\n",
    "    for deck in deck_data:\n",
    "        cards = deck['cards']\n",
    "        for i in range(iterations):\n",
    "            shuffle(cards)\n",
    "            selected_cards = cards[:card_number]\n",
    "\n",
    "            training_data.append((deck['archetype'], [1 if c in selected_cards else 0 for c in all_cards]))\n",
    "        \n",
    "shuffle(training_data)\n",
    "\n",
    "print(\"Prepared %d sets for training/testing\" % len(training_data))"
   ]
  },
  {
   "cell_type": "markdown",
   "metadata": {},
   "source": [
    "Now that we have data suited to train a model for our purpose we'll split the dataset in training and testing data. Next, we'll fit a Random Forest Classifier (RFC) on our training data and check it's performance on the test data."
   ]
  },
  {
   "cell_type": "code",
   "execution_count": 8,
   "metadata": {},
   "outputs": [
    {
     "data": {
      "text/plain": [
       "RandomForestClassifier(bootstrap=True, class_weight=None, criterion='gini',\n",
       "                       max_depth=None, max_features=5, max_leaf_nodes=None,\n",
       "                       min_impurity_decrease=0.0, min_impurity_split=None,\n",
       "                       min_samples_leaf=1, min_samples_split=2,\n",
       "                       min_weight_fraction_leaf=0.0, n_estimators=50, n_jobs=3,\n",
       "                       oob_score=False, random_state=None, verbose=0,\n",
       "                       warm_start=False)"
      ]
     },
     "execution_count": 8,
     "metadata": {},
     "output_type": "execute_result"
    }
   ],
   "source": [
    "# build X,y for training, the first n elements, defined by testsize, will be used for testing\n",
    "\n",
    "testsize = 50000\n",
    "\n",
    "X_train = [d[1] for d in training_data[testsize:]]\n",
    "y_train = [d[0] for d in training_data[testsize:]]\n",
    "\n",
    "X_test = [d[1] for d in training_data[:testsize]]\n",
    "y_test = [d[0] for d in training_data[:testsize]]\n",
    "\n",
    "training_data = []\n",
    "\n",
    "\n",
    "from sklearn.ensemble import RandomForestClassifier\n",
    "rfc = RandomForestClassifier(max_depth=None, \n",
    "                             criterion= 'gini', \n",
    "                             max_features= 5, \n",
    "                             n_estimators= 50,\n",
    "                             n_jobs=3)\n",
    "\n",
    "rfc.fit(X_train, y_train)"
   ]
  },
  {
   "cell_type": "code",
   "execution_count": 9,
   "metadata": {},
   "outputs": [
    {
     "data": {
      "text/plain": [
       "0.96308"
      ]
     },
     "execution_count": 9,
     "metadata": {},
     "output_type": "execute_result"
    }
   ],
   "source": [
    "rfc.score(X_test, y_test)"
   ]
  },
  {
   "cell_type": "code",
   "execution_count": 10,
   "metadata": {},
   "outputs": [],
   "source": [
    "def predict_deck(cards_known):\n",
    "    cards_array = [[1 if c in cards_known else 0 for c in all_cards]]\n",
    "\n",
    "    decks_proba = rfc.predict_proba(cards_array)[0]\n",
    "\n",
    "    decks = pd.DataFrame(list(zip(rfc.classes_, decks_proba)), columns=[\"Deck\", \"Score\"])\\\n",
    "              .sort_values(\"Score\", axis=0, ascending=False)\n",
    "\n",
    "    return decks"
   ]
  },
  {
   "cell_type": "markdown",
   "metadata": {},
   "source": [
    "Let's test our classifier on a few samples."
   ]
  },
  {
   "cell_type": "code",
   "execution_count": 11,
   "metadata": {},
   "outputs": [
    {
     "data": {
      "text/html": [
       "<div>\n",
       "<style scoped>\n",
       "    .dataframe tbody tr th:only-of-type {\n",
       "        vertical-align: middle;\n",
       "    }\n",
       "\n",
       "    .dataframe tbody tr th {\n",
       "        vertical-align: top;\n",
       "    }\n",
       "\n",
       "    .dataframe thead th {\n",
       "        text-align: right;\n",
       "    }\n",
       "</style>\n",
       "<table border=\"1\" class=\"dataframe\">\n",
       "  <thead>\n",
       "    <tr style=\"text-align: right;\">\n",
       "      <th></th>\n",
       "      <th>Deck</th>\n",
       "      <th>Score</th>\n",
       "    </tr>\n",
       "  </thead>\n",
       "  <tbody>\n",
       "    <tr>\n",
       "      <td>27</td>\n",
       "      <td>UWx Control</td>\n",
       "      <td>0.265976</td>\n",
       "    </tr>\n",
       "    <tr>\n",
       "      <td>1</td>\n",
       "      <td>BUG Midrange</td>\n",
       "      <td>0.241381</td>\n",
       "    </tr>\n",
       "    <tr>\n",
       "      <td>14</td>\n",
       "      <td>Grixis Delver</td>\n",
       "      <td>0.230190</td>\n",
       "    </tr>\n",
       "    <tr>\n",
       "      <td>13</td>\n",
       "      <td>Grixis Control</td>\n",
       "      <td>0.202452</td>\n",
       "    </tr>\n",
       "    <tr>\n",
       "      <td>26</td>\n",
       "      <td>UR Delver</td>\n",
       "      <td>0.060000</td>\n",
       "    </tr>\n",
       "    <tr>\n",
       "      <td>3</td>\n",
       "      <td>Bant Control</td>\n",
       "      <td>0.000000</td>\n",
       "    </tr>\n",
       "    <tr>\n",
       "      <td>16</td>\n",
       "      <td>Lands</td>\n",
       "      <td>0.000000</td>\n",
       "    </tr>\n",
       "    <tr>\n",
       "      <td>25</td>\n",
       "      <td>Storm</td>\n",
       "      <td>0.000000</td>\n",
       "    </tr>\n",
       "    <tr>\n",
       "      <td>24</td>\n",
       "      <td>Slivers</td>\n",
       "      <td>0.000000</td>\n",
       "    </tr>\n",
       "    <tr>\n",
       "      <td>23</td>\n",
       "      <td>Show and Tell</td>\n",
       "      <td>0.000000</td>\n",
       "    </tr>\n",
       "  </tbody>\n",
       "</table>\n",
       "</div>"
      ],
      "text/plain": [
       "              Deck     Score\n",
       "27     UWx Control  0.265976\n",
       "1     BUG Midrange  0.241381\n",
       "14   Grixis Delver  0.230190\n",
       "13  Grixis Control  0.202452\n",
       "26       UR Delver  0.060000\n",
       "3     Bant Control  0.000000\n",
       "16           Lands  0.000000\n",
       "25           Storm  0.000000\n",
       "24         Slivers  0.000000\n",
       "23   Show and Tell  0.000000"
      ]
     },
     "execution_count": 11,
     "metadata": {},
     "output_type": "execute_result"
    }
   ],
   "source": [
    "predict_deck([\"Polluted Delta\", \"Underground Sea\", \"Brainstorm\", \"Force of Will\"]).head(10)"
   ]
  },
  {
   "cell_type": "code",
   "execution_count": 12,
   "metadata": {},
   "outputs": [
    {
     "data": {
      "text/html": [
       "<div>\n",
       "<style scoped>\n",
       "    .dataframe tbody tr th:only-of-type {\n",
       "        vertical-align: middle;\n",
       "    }\n",
       "\n",
       "    .dataframe tbody tr th {\n",
       "        vertical-align: top;\n",
       "    }\n",
       "\n",
       "    .dataframe thead th {\n",
       "        text-align: right;\n",
       "    }\n",
       "</style>\n",
       "<table border=\"1\" class=\"dataframe\">\n",
       "  <thead>\n",
       "    <tr style=\"text-align: right;\">\n",
       "      <th></th>\n",
       "      <th>Deck</th>\n",
       "      <th>Score</th>\n",
       "    </tr>\n",
       "  </thead>\n",
       "  <tbody>\n",
       "    <tr>\n",
       "      <td>2</td>\n",
       "      <td>Bant Aggro</td>\n",
       "      <td>0.528</td>\n",
       "    </tr>\n",
       "    <tr>\n",
       "      <td>1</td>\n",
       "      <td>BUG Midrange</td>\n",
       "      <td>0.452</td>\n",
       "    </tr>\n",
       "    <tr>\n",
       "      <td>3</td>\n",
       "      <td>Bant Control</td>\n",
       "      <td>0.020</td>\n",
       "    </tr>\n",
       "    <tr>\n",
       "      <td>0</td>\n",
       "      <td>Artifacts Blue</td>\n",
       "      <td>0.000</td>\n",
       "    </tr>\n",
       "    <tr>\n",
       "      <td>16</td>\n",
       "      <td>Lands</td>\n",
       "      <td>0.000</td>\n",
       "    </tr>\n",
       "  </tbody>\n",
       "</table>\n",
       "</div>"
      ],
      "text/plain": [
       "              Deck  Score\n",
       "2       Bant Aggro  0.528\n",
       "1     BUG Midrange  0.452\n",
       "3     Bant Control  0.020\n",
       "0   Artifacts Blue  0.000\n",
       "16           Lands  0.000"
      ]
     },
     "execution_count": 12,
     "metadata": {},
     "output_type": "execute_result"
    }
   ],
   "source": [
    "predict_deck([\"Arcum's Astrolabe\", \"Snow-Covered Forest\", \"Brainstorm\", \"Noble Hierarch\"]).head(5)"
   ]
  },
  {
   "cell_type": "markdown",
   "metadata": {},
   "source": [
    "To avoid retraining the data, the classifier is written to disk jusing the gzip and pickle library."
   ]
  },
  {
   "cell_type": "code",
   "execution_count": null,
   "metadata": {},
   "outputs": [],
   "source": [
    "import gzip, pickle\n",
    "\n",
    "with gzip.open('all_samples.rfc.pickle.gz','wb') as fp:\n",
    "    pickle.dump((all_cards, rfc), fp)"
   ]
  },
  {
   "cell_type": "markdown",
   "metadata": {},
   "source": [
    "## Step 04: Dealing with imbalanced data\n",
    "\n",
    "Some decks only appear once or twice in our dataset, while others are included up to 10 times. This creates an imbalance in our dataset with common decks being overrepresented. This type of imbalance thends to negatively affect a classifiers performance (as it can achieve good classifications always predicting the most common classes). \n",
    "\n",
    "This issue is easily addressed with a packaged **imbalanced learning**. Unfortunately, this isn't part of anaconda and can be installed using\n",
    "\n",
    "```bash\n",
    "conda install -c conda-forge imbalanced-learn\n",
    "```\n",
    "I hope this functionality will be included in sklearn itself as it is an essential component of many machine learning projects."
   ]
  },
  {
   "cell_type": "code",
   "execution_count": 13,
   "metadata": {},
   "outputs": [],
   "source": [
    "from imblearn.under_sampling import RandomUnderSampler\n",
    "\n",
    "rus = RandomUnderSampler()\n",
    "X_rus, y_rus = rus.fit_sample(X_train, y_train)"
   ]
  },
  {
   "cell_type": "markdown",
   "metadata": {},
   "source": [
    "By undersampling the abundant classes we do lose a lot of data, this was to be expected. In this case it isn't a big deal as we generated more than enough training data. We'll check if this worked as expected and train a new classifier on the undersampled dataset."
   ]
  },
  {
   "cell_type": "code",
   "execution_count": 14,
   "metadata": {},
   "outputs": [
    {
     "data": {
      "text/plain": [
       "[('Artifacts Blue', 8108),\n",
       " ('BUG Midrange', 8108),\n",
       " ('Bant Aggro', 8108),\n",
       " ('Bant Control', 8108),\n",
       " ('Canadian Threshold', 8108),\n",
       " ('Dark Depths', 8108),\n",
       " ('Death & Taxes', 8108),\n",
       " ('Dragon Stompy', 8108),\n",
       " ('Dredge', 8108),\n",
       " ('Eldrazi Aggro', 8108),\n",
       " ('Elves', 8108),\n",
       " ('Food Griffin', 8108),\n",
       " ('Goblins', 8108),\n",
       " ('Grixis Control', 8108),\n",
       " ('Grixis Delver', 8108),\n",
       " ('Hogaak', 8108),\n",
       " ('Lands', 8108),\n",
       " ('Loam', 8108),\n",
       " ('Mono Black Aggro', 8108),\n",
       " ('Other - Aggro', 8108),\n",
       " ('Painter', 8108),\n",
       " ('Pikula', 8108),\n",
       " ('Reanimator', 8108),\n",
       " ('Show and Tell', 8108),\n",
       " ('Slivers', 8108),\n",
       " ('Storm', 8108),\n",
       " ('UR Delver', 8108),\n",
       " ('UWx Control', 8108)]"
      ]
     },
     "execution_count": 14,
     "metadata": {},
     "output_type": "execute_result"
    }
   ],
   "source": [
    "c = Counter(y_rus)\n",
    "c.most_common()"
   ]
  },
  {
   "cell_type": "code",
   "execution_count": 15,
   "metadata": {},
   "outputs": [
    {
     "data": {
      "text/plain": [
       "0.95394"
      ]
     },
     "execution_count": 15,
     "metadata": {},
     "output_type": "execute_result"
    }
   ],
   "source": [
    "rfc = RandomForestClassifier(max_depth=None, \n",
    "                             criterion= 'gini', \n",
    "                             max_features= 5, \n",
    "                             n_estimators= 50,\n",
    "                             n_jobs=3)\n",
    "rfc.fit(X_rus, y_rus)\n",
    "rfc.score(X_test, y_test)"
   ]
  },
  {
   "cell_type": "code",
   "execution_count": 16,
   "metadata": {},
   "outputs": [
    {
     "data": {
      "text/html": [
       "<div>\n",
       "<style scoped>\n",
       "    .dataframe tbody tr th:only-of-type {\n",
       "        vertical-align: middle;\n",
       "    }\n",
       "\n",
       "    .dataframe tbody tr th {\n",
       "        vertical-align: top;\n",
       "    }\n",
       "\n",
       "    .dataframe thead th {\n",
       "        text-align: right;\n",
       "    }\n",
       "</style>\n",
       "<table border=\"1\" class=\"dataframe\">\n",
       "  <thead>\n",
       "    <tr style=\"text-align: right;\">\n",
       "      <th></th>\n",
       "      <th>Deck</th>\n",
       "      <th>Score</th>\n",
       "    </tr>\n",
       "  </thead>\n",
       "  <tbody>\n",
       "    <tr>\n",
       "      <td>2</td>\n",
       "      <td>Bant Aggro</td>\n",
       "      <td>0.516333</td>\n",
       "    </tr>\n",
       "    <tr>\n",
       "      <td>1</td>\n",
       "      <td>BUG Midrange</td>\n",
       "      <td>0.443667</td>\n",
       "    </tr>\n",
       "    <tr>\n",
       "      <td>27</td>\n",
       "      <td>UWx Control</td>\n",
       "      <td>0.020000</td>\n",
       "    </tr>\n",
       "    <tr>\n",
       "      <td>3</td>\n",
       "      <td>Bant Control</td>\n",
       "      <td>0.020000</td>\n",
       "    </tr>\n",
       "    <tr>\n",
       "      <td>16</td>\n",
       "      <td>Lands</td>\n",
       "      <td>0.000000</td>\n",
       "    </tr>\n",
       "  </tbody>\n",
       "</table>\n",
       "</div>"
      ],
      "text/plain": [
       "            Deck     Score\n",
       "2     Bant Aggro  0.516333\n",
       "1   BUG Midrange  0.443667\n",
       "27   UWx Control  0.020000\n",
       "3   Bant Control  0.020000\n",
       "16         Lands  0.000000"
      ]
     },
     "execution_count": 16,
     "metadata": {},
     "output_type": "execute_result"
    }
   ],
   "source": [
    "predict_deck([\"Arcum's Astrolabe\", \"Snow-Covered Forest\", \"Brainstorm\", \"Noble Hierarch\"]).head(5)"
   ]
  },
  {
   "cell_type": "code",
   "execution_count": 17,
   "metadata": {},
   "outputs": [
    {
     "data": {
      "text/html": [
       "<div>\n",
       "<style scoped>\n",
       "    .dataframe tbody tr th:only-of-type {\n",
       "        vertical-align: middle;\n",
       "    }\n",
       "\n",
       "    .dataframe tbody tr th {\n",
       "        vertical-align: top;\n",
       "    }\n",
       "\n",
       "    .dataframe thead th {\n",
       "        text-align: right;\n",
       "    }\n",
       "</style>\n",
       "<table border=\"1\" class=\"dataframe\">\n",
       "  <thead>\n",
       "    <tr style=\"text-align: right;\">\n",
       "      <th></th>\n",
       "      <th>Deck</th>\n",
       "      <th>Score</th>\n",
       "    </tr>\n",
       "  </thead>\n",
       "  <tbody>\n",
       "    <tr>\n",
       "      <td>13</td>\n",
       "      <td>Grixis Control</td>\n",
       "      <td>0.566333</td>\n",
       "    </tr>\n",
       "    <tr>\n",
       "      <td>1</td>\n",
       "      <td>BUG Midrange</td>\n",
       "      <td>0.373667</td>\n",
       "    </tr>\n",
       "    <tr>\n",
       "      <td>0</td>\n",
       "      <td>Artifacts Blue</td>\n",
       "      <td>0.020000</td>\n",
       "    </tr>\n",
       "    <tr>\n",
       "      <td>14</td>\n",
       "      <td>Grixis Delver</td>\n",
       "      <td>0.020000</td>\n",
       "    </tr>\n",
       "    <tr>\n",
       "      <td>27</td>\n",
       "      <td>UWx Control</td>\n",
       "      <td>0.020000</td>\n",
       "    </tr>\n",
       "    <tr>\n",
       "      <td>5</td>\n",
       "      <td>Dark Depths</td>\n",
       "      <td>0.000000</td>\n",
       "    </tr>\n",
       "    <tr>\n",
       "      <td>26</td>\n",
       "      <td>UR Delver</td>\n",
       "      <td>0.000000</td>\n",
       "    </tr>\n",
       "    <tr>\n",
       "      <td>25</td>\n",
       "      <td>Storm</td>\n",
       "      <td>0.000000</td>\n",
       "    </tr>\n",
       "    <tr>\n",
       "      <td>24</td>\n",
       "      <td>Slivers</td>\n",
       "      <td>0.000000</td>\n",
       "    </tr>\n",
       "    <tr>\n",
       "      <td>23</td>\n",
       "      <td>Show and Tell</td>\n",
       "      <td>0.000000</td>\n",
       "    </tr>\n",
       "  </tbody>\n",
       "</table>\n",
       "</div>"
      ],
      "text/plain": [
       "              Deck     Score\n",
       "13  Grixis Control  0.566333\n",
       "1     BUG Midrange  0.373667\n",
       "0   Artifacts Blue  0.020000\n",
       "14   Grixis Delver  0.020000\n",
       "27     UWx Control  0.020000\n",
       "5      Dark Depths  0.000000\n",
       "26       UR Delver  0.000000\n",
       "25           Storm  0.000000\n",
       "24         Slivers  0.000000\n",
       "23   Show and Tell  0.000000"
      ]
     },
     "execution_count": 17,
     "metadata": {},
     "output_type": "execute_result"
    }
   ],
   "source": [
    "predict_deck([\"Polluted Delta\", \"Underground Sea\", \"Brainstorm\", \"Force of Will\"]).head(10)"
   ]
  },
  {
   "cell_type": "code",
   "execution_count": null,
   "metadata": {},
   "outputs": [],
   "source": [
    "import gzip, pickle\n",
    "\n",
    "with gzip.open('balanced_samples.rfc.pickle.gz','wb') as fp:\n",
    "    pickle.dump((all_cards, rfc), fp)"
   ]
  },
  {
   "cell_type": "markdown",
   "metadata": {},
   "source": [
    "## Step 05: Load classifier and play with predictions\n",
    "\n",
    "\n",
    "In this final part the classifier will be loaded from a pickle and you can play with predictions.\n",
    "\n"
   ]
  },
  {
   "cell_type": "code",
   "execution_count": null,
   "metadata": {},
   "outputs": [],
   "source": [
    "import gzip, pickle\n",
    "import pandas as pd\n",
    "from sklearn.ensemble import RandomForestClassifier\n",
    "\n",
    "\n",
    "with gzip.open('balanced_samples.rfc.pickle.gz','rb') as fp:\n",
    "    (all_cards, rfc) = pickle.load(fp)"
   ]
  },
  {
   "cell_type": "code",
   "execution_count": 18,
   "metadata": {},
   "outputs": [],
   "source": [
    "def predict_deck(cards_known):\n",
    "    \"\"\"\n",
    "    This will take a list of known cards and convert it in a matrix compatible with the classifier.\n",
    "    Next, this classifier will be used to predict which deck the known cards are coming from and \n",
    "    return the results as a sorted pandas dataframe.\n",
    "    \"\"\"\n",
    "    cards_array = [[1 if c in cards_known else 0 for c in all_cards]]\n",
    "\n",
    "    cards_not_in_model = [c for c in cards_known if c not in all_cards]\n",
    "    \n",
    "    if len(cards_not_in_model) > 0:\n",
    "        print(\"Some cards were not included when trainig the model, these will be ignored: %s\" % ','.join(cards_not_in_model))\n",
    "    \n",
    "    decks_proba = rfc.predict_proba(cards_array)[0]\n",
    "\n",
    "    decks = pd.DataFrame(list(zip(rfc.classes_, decks_proba)), columns=[\"Deck\", \"Score\"])\\\n",
    "              .sort_values(\"Score\", axis=0, ascending=False)\n",
    "\n",
    "    return decks"
   ]
  },
  {
   "cell_type": "code",
   "execution_count": 19,
   "metadata": {},
   "outputs": [
    {
     "data": {
      "text/html": [
       "<div>\n",
       "<style scoped>\n",
       "    .dataframe tbody tr th:only-of-type {\n",
       "        vertical-align: middle;\n",
       "    }\n",
       "\n",
       "    .dataframe tbody tr th {\n",
       "        vertical-align: top;\n",
       "    }\n",
       "\n",
       "    .dataframe thead th {\n",
       "        text-align: right;\n",
       "    }\n",
       "</style>\n",
       "<table border=\"1\" class=\"dataframe\">\n",
       "  <thead>\n",
       "    <tr style=\"text-align: right;\">\n",
       "      <th></th>\n",
       "      <th>Deck</th>\n",
       "      <th>Score</th>\n",
       "    </tr>\n",
       "  </thead>\n",
       "  <tbody>\n",
       "    <tr>\n",
       "      <td>6</td>\n",
       "      <td>Death &amp; Taxes</td>\n",
       "      <td>0.54</td>\n",
       "    </tr>\n",
       "    <tr>\n",
       "      <td>21</td>\n",
       "      <td>Pikula</td>\n",
       "      <td>0.40</td>\n",
       "    </tr>\n",
       "    <tr>\n",
       "      <td>19</td>\n",
       "      <td>Other - Aggro</td>\n",
       "      <td>0.04</td>\n",
       "    </tr>\n",
       "    <tr>\n",
       "      <td>17</td>\n",
       "      <td>Loam</td>\n",
       "      <td>0.02</td>\n",
       "    </tr>\n",
       "    <tr>\n",
       "      <td>0</td>\n",
       "      <td>Artifacts Blue</td>\n",
       "      <td>0.00</td>\n",
       "    </tr>\n",
       "  </tbody>\n",
       "</table>\n",
       "</div>"
      ],
      "text/plain": [
       "              Deck  Score\n",
       "6    Death & Taxes   0.54\n",
       "21          Pikula   0.40\n",
       "19   Other - Aggro   0.04\n",
       "17            Loam   0.02\n",
       "0   Artifacts Blue   0.00"
      ]
     },
     "execution_count": 19,
     "metadata": {},
     "output_type": "execute_result"
    }
   ],
   "source": [
    "predict_deck([\"Plains\", \"Mother of Runes\", \"Wasteland\"]).head(5)"
   ]
  },
  {
   "cell_type": "code",
   "execution_count": 20,
   "metadata": {},
   "outputs": [
    {
     "data": {
      "text/html": [
       "<div>\n",
       "<style scoped>\n",
       "    .dataframe tbody tr th:only-of-type {\n",
       "        vertical-align: middle;\n",
       "    }\n",
       "\n",
       "    .dataframe tbody tr th {\n",
       "        vertical-align: top;\n",
       "    }\n",
       "\n",
       "    .dataframe thead th {\n",
       "        text-align: right;\n",
       "    }\n",
       "</style>\n",
       "<table border=\"1\" class=\"dataframe\">\n",
       "  <thead>\n",
       "    <tr style=\"text-align: right;\">\n",
       "      <th></th>\n",
       "      <th>Deck</th>\n",
       "      <th>Score</th>\n",
       "    </tr>\n",
       "  </thead>\n",
       "  <tbody>\n",
       "    <tr>\n",
       "      <td>17</td>\n",
       "      <td>Loam</td>\n",
       "      <td>0.54</td>\n",
       "    </tr>\n",
       "    <tr>\n",
       "      <td>5</td>\n",
       "      <td>Dark Depths</td>\n",
       "      <td>0.44</td>\n",
       "    </tr>\n",
       "    <tr>\n",
       "      <td>16</td>\n",
       "      <td>Lands</td>\n",
       "      <td>0.02</td>\n",
       "    </tr>\n",
       "    <tr>\n",
       "      <td>0</td>\n",
       "      <td>Artifacts Blue</td>\n",
       "      <td>0.00</td>\n",
       "    </tr>\n",
       "    <tr>\n",
       "      <td>15</td>\n",
       "      <td>Hogaak</td>\n",
       "      <td>0.00</td>\n",
       "    </tr>\n",
       "  </tbody>\n",
       "</table>\n",
       "</div>"
      ],
      "text/plain": [
       "              Deck  Score\n",
       "17            Loam   0.54\n",
       "5      Dark Depths   0.44\n",
       "16           Lands   0.02\n",
       "0   Artifacts Blue   0.00\n",
       "15          Hogaak   0.00"
      ]
     },
     "execution_count": 20,
     "metadata": {},
     "output_type": "execute_result"
    }
   ],
   "source": [
    "predict_deck([\"Dark Confidant\", \"Forest\", \"Mox Diamond\", \"Swamp\"]).head(5)"
   ]
  },
  {
   "cell_type": "code",
   "execution_count": 21,
   "metadata": {},
   "outputs": [
    {
     "data": {
      "text/html": [
       "<div>\n",
       "<style scoped>\n",
       "    .dataframe tbody tr th:only-of-type {\n",
       "        vertical-align: middle;\n",
       "    }\n",
       "\n",
       "    .dataframe tbody tr th {\n",
       "        vertical-align: top;\n",
       "    }\n",
       "\n",
       "    .dataframe thead th {\n",
       "        text-align: right;\n",
       "    }\n",
       "</style>\n",
       "<table border=\"1\" class=\"dataframe\">\n",
       "  <thead>\n",
       "    <tr style=\"text-align: right;\">\n",
       "      <th></th>\n",
       "      <th>Deck</th>\n",
       "      <th>Score</th>\n",
       "    </tr>\n",
       "  </thead>\n",
       "  <tbody>\n",
       "    <tr>\n",
       "      <td>2</td>\n",
       "      <td>Bant Aggro</td>\n",
       "      <td>0.516333</td>\n",
       "    </tr>\n",
       "    <tr>\n",
       "      <td>1</td>\n",
       "      <td>BUG Midrange</td>\n",
       "      <td>0.443667</td>\n",
       "    </tr>\n",
       "    <tr>\n",
       "      <td>27</td>\n",
       "      <td>UWx Control</td>\n",
       "      <td>0.020000</td>\n",
       "    </tr>\n",
       "    <tr>\n",
       "      <td>3</td>\n",
       "      <td>Bant Control</td>\n",
       "      <td>0.020000</td>\n",
       "    </tr>\n",
       "    <tr>\n",
       "      <td>16</td>\n",
       "      <td>Lands</td>\n",
       "      <td>0.000000</td>\n",
       "    </tr>\n",
       "  </tbody>\n",
       "</table>\n",
       "</div>"
      ],
      "text/plain": [
       "            Deck     Score\n",
       "2     Bant Aggro  0.516333\n",
       "1   BUG Midrange  0.443667\n",
       "27   UWx Control  0.020000\n",
       "3   Bant Control  0.020000\n",
       "16         Lands  0.000000"
      ]
     },
     "execution_count": 21,
     "metadata": {},
     "output_type": "execute_result"
    }
   ],
   "source": [
    "predict_deck([\"Arcum's Astrolabe\", \"Snow-Covered Forest\", \"Brainstorm\", \"Noble Hierarch\"]).head(5)"
   ]
  },
  {
   "cell_type": "code",
   "execution_count": 22,
   "metadata": {},
   "outputs": [
    {
     "data": {
      "text/html": [
       "<div>\n",
       "<style scoped>\n",
       "    .dataframe tbody tr th:only-of-type {\n",
       "        vertical-align: middle;\n",
       "    }\n",
       "\n",
       "    .dataframe tbody tr th {\n",
       "        vertical-align: top;\n",
       "    }\n",
       "\n",
       "    .dataframe thead th {\n",
       "        text-align: right;\n",
       "    }\n",
       "</style>\n",
       "<table border=\"1\" class=\"dataframe\">\n",
       "  <thead>\n",
       "    <tr style=\"text-align: right;\">\n",
       "      <th></th>\n",
       "      <th>Deck</th>\n",
       "      <th>Score</th>\n",
       "    </tr>\n",
       "  </thead>\n",
       "  <tbody>\n",
       "    <tr>\n",
       "      <td>26</td>\n",
       "      <td>UR Delver</td>\n",
       "      <td>0.425</td>\n",
       "    </tr>\n",
       "    <tr>\n",
       "      <td>25</td>\n",
       "      <td>Storm</td>\n",
       "      <td>0.315</td>\n",
       "    </tr>\n",
       "    <tr>\n",
       "      <td>14</td>\n",
       "      <td>Grixis Delver</td>\n",
       "      <td>0.140</td>\n",
       "    </tr>\n",
       "    <tr>\n",
       "      <td>13</td>\n",
       "      <td>Grixis Control</td>\n",
       "      <td>0.060</td>\n",
       "    </tr>\n",
       "    <tr>\n",
       "      <td>1</td>\n",
       "      <td>BUG Midrange</td>\n",
       "      <td>0.040</td>\n",
       "    </tr>\n",
       "  </tbody>\n",
       "</table>\n",
       "</div>"
      ],
      "text/plain": [
       "              Deck  Score\n",
       "26       UR Delver  0.425\n",
       "25           Storm  0.315\n",
       "14   Grixis Delver  0.140\n",
       "13  Grixis Control  0.060\n",
       "1     BUG Midrange  0.040"
      ]
     },
     "execution_count": 22,
     "metadata": {},
     "output_type": "execute_result"
    }
   ],
   "source": [
    "predict_deck([\"Polluted Delta\", \"Volcanic Island\", \"Underground Sea\", \"Brainstorm\"]).head(5)"
   ]
  },
  {
   "cell_type": "code",
   "execution_count": 23,
   "metadata": {},
   "outputs": [
    {
     "data": {
      "text/html": [
       "<div>\n",
       "<style scoped>\n",
       "    .dataframe tbody tr th:only-of-type {\n",
       "        vertical-align: middle;\n",
       "    }\n",
       "\n",
       "    .dataframe tbody tr th {\n",
       "        vertical-align: top;\n",
       "    }\n",
       "\n",
       "    .dataframe thead th {\n",
       "        text-align: right;\n",
       "    }\n",
       "</style>\n",
       "<table border=\"1\" class=\"dataframe\">\n",
       "  <thead>\n",
       "    <tr style=\"text-align: right;\">\n",
       "      <th></th>\n",
       "      <th>Deck</th>\n",
       "      <th>Score</th>\n",
       "    </tr>\n",
       "  </thead>\n",
       "  <tbody>\n",
       "    <tr>\n",
       "      <td>11</td>\n",
       "      <td>Food Griffin</td>\n",
       "      <td>0.56</td>\n",
       "    </tr>\n",
       "    <tr>\n",
       "      <td>2</td>\n",
       "      <td>Bant Aggro</td>\n",
       "      <td>0.14</td>\n",
       "    </tr>\n",
       "    <tr>\n",
       "      <td>19</td>\n",
       "      <td>Other - Aggro</td>\n",
       "      <td>0.14</td>\n",
       "    </tr>\n",
       "    <tr>\n",
       "      <td>27</td>\n",
       "      <td>UWx Control</td>\n",
       "      <td>0.08</td>\n",
       "    </tr>\n",
       "    <tr>\n",
       "      <td>3</td>\n",
       "      <td>Bant Control</td>\n",
       "      <td>0.04</td>\n",
       "    </tr>\n",
       "  </tbody>\n",
       "</table>\n",
       "</div>"
      ],
      "text/plain": [
       "             Deck  Score\n",
       "11   Food Griffin   0.56\n",
       "2      Bant Aggro   0.14\n",
       "19  Other - Aggro   0.14\n",
       "27    UWx Control   0.08\n",
       "3    Bant Control   0.04"
      ]
     },
     "execution_count": 23,
     "metadata": {},
     "output_type": "execute_result"
    }
   ],
   "source": [
    "predict_deck(['Birds of Paradise', \"Snow-Covered Forest\", \"Windswept Heath\", \"Misthollow Griffin\", \"Force of Will\"]).head(5)"
   ]
  },
  {
   "cell_type": "code",
   "execution_count": 24,
   "metadata": {},
   "outputs": [
    {
     "data": {
      "text/html": [
       "<div>\n",
       "<style scoped>\n",
       "    .dataframe tbody tr th:only-of-type {\n",
       "        vertical-align: middle;\n",
       "    }\n",
       "\n",
       "    .dataframe tbody tr th {\n",
       "        vertical-align: top;\n",
       "    }\n",
       "\n",
       "    .dataframe thead th {\n",
       "        text-align: right;\n",
       "    }\n",
       "</style>\n",
       "<table border=\"1\" class=\"dataframe\">\n",
       "  <thead>\n",
       "    <tr style=\"text-align: right;\">\n",
       "      <th></th>\n",
       "      <th>Deck</th>\n",
       "      <th>Score</th>\n",
       "    </tr>\n",
       "  </thead>\n",
       "  <tbody>\n",
       "    <tr>\n",
       "      <td>27</td>\n",
       "      <td>UWx Control</td>\n",
       "      <td>0.621667</td>\n",
       "    </tr>\n",
       "    <tr>\n",
       "      <td>13</td>\n",
       "      <td>Grixis Control</td>\n",
       "      <td>0.140000</td>\n",
       "    </tr>\n",
       "    <tr>\n",
       "      <td>3</td>\n",
       "      <td>Bant Control</td>\n",
       "      <td>0.118333</td>\n",
       "    </tr>\n",
       "    <tr>\n",
       "      <td>1</td>\n",
       "      <td>BUG Midrange</td>\n",
       "      <td>0.100000</td>\n",
       "    </tr>\n",
       "    <tr>\n",
       "      <td>23</td>\n",
       "      <td>Show and Tell</td>\n",
       "      <td>0.020000</td>\n",
       "    </tr>\n",
       "  </tbody>\n",
       "</table>\n",
       "</div>"
      ],
      "text/plain": [
       "              Deck     Score\n",
       "27     UWx Control  0.621667\n",
       "13  Grixis Control  0.140000\n",
       "3     Bant Control  0.118333\n",
       "1     BUG Midrange  0.100000\n",
       "23   Show and Tell  0.020000"
      ]
     },
     "execution_count": 24,
     "metadata": {},
     "output_type": "execute_result"
    }
   ],
   "source": [
    "predict_deck([\"Arcum's Astrolabe\", \"Snow-Covered Swamp\", \"Brainstorm\", \"Polluted Delta\", \"Snow-Covered Island\", \"Ponder\"]).head(5)"
   ]
  },
  {
   "cell_type": "code",
   "execution_count": 25,
   "metadata": {},
   "outputs": [
    {
     "data": {
      "text/html": [
       "<div>\n",
       "<style scoped>\n",
       "    .dataframe tbody tr th:only-of-type {\n",
       "        vertical-align: middle;\n",
       "    }\n",
       "\n",
       "    .dataframe tbody tr th {\n",
       "        vertical-align: top;\n",
       "    }\n",
       "\n",
       "    .dataframe thead th {\n",
       "        text-align: right;\n",
       "    }\n",
       "</style>\n",
       "<table border=\"1\" class=\"dataframe\">\n",
       "  <thead>\n",
       "    <tr style=\"text-align: right;\">\n",
       "      <th></th>\n",
       "      <th>Deck</th>\n",
       "      <th>Score</th>\n",
       "    </tr>\n",
       "  </thead>\n",
       "  <tbody>\n",
       "    <tr>\n",
       "      <td>27</td>\n",
       "      <td>UWx Control</td>\n",
       "      <td>0.32</td>\n",
       "    </tr>\n",
       "    <tr>\n",
       "      <td>3</td>\n",
       "      <td>Bant Control</td>\n",
       "      <td>0.26</td>\n",
       "    </tr>\n",
       "    <tr>\n",
       "      <td>1</td>\n",
       "      <td>BUG Midrange</td>\n",
       "      <td>0.26</td>\n",
       "    </tr>\n",
       "    <tr>\n",
       "      <td>13</td>\n",
       "      <td>Grixis Control</td>\n",
       "      <td>0.14</td>\n",
       "    </tr>\n",
       "    <tr>\n",
       "      <td>2</td>\n",
       "      <td>Bant Aggro</td>\n",
       "      <td>0.02</td>\n",
       "    </tr>\n",
       "  </tbody>\n",
       "</table>\n",
       "</div>"
      ],
      "text/plain": [
       "              Deck  Score\n",
       "27     UWx Control   0.32\n",
       "3     Bant Control   0.26\n",
       "1     BUG Midrange   0.26\n",
       "13  Grixis Control   0.14\n",
       "2       Bant Aggro   0.02"
      ]
     },
     "execution_count": 25,
     "metadata": {},
     "output_type": "execute_result"
    }
   ],
   "source": [
    "predict_deck([\"Arcum's Astrolabe\", \"Snow-Covered Swamp\", \"Polluted Delta\",  \"Snow-Covered Forest\", \"Brainstorm\", \"Ponder\"]).head(5)"
   ]
  },
  {
   "cell_type": "markdown",
   "metadata": {},
   "source": [
    "## Conclusion\n",
    "\n",
    "This seems to work very well and can easily be adapted for other formats as well. Do note that manual curation could improve these prediction. For instance the UWx Control decks are very diverse and the classifier would likely perform better if this class was removed.\n",
    "\n",
    "Overall a cool application of machine learning I haven't seen before ! \n"
   ]
  }
 ],
 "metadata": {
  "anaconda-cloud": {},
  "kernelspec": {
   "display_name": "Python 3",
   "language": "python",
   "name": "python3"
  },
  "language_info": {
   "codemirror_mode": {
    "name": "ipython",
    "version": 3
   },
   "file_extension": ".py",
   "mimetype": "text/x-python",
   "name": "python",
   "nbconvert_exporter": "python",
   "pygments_lexer": "ipython3",
   "version": "3.7.4"
  }
 },
 "nbformat": 4,
 "nbformat_minor": 2
}
